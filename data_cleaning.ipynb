{
 "cells": [
  {
   "cell_type": "code",
   "execution_count": 156,
   "id": "557f9b36",
   "metadata": {},
   "outputs": [],
   "source": [
    "import pandas as pd\n",
    "import os\n",
    "import logging"
   ]
  },
  {
   "cell_type": "code",
   "execution_count": 157,
   "id": "923de43e",
   "metadata": {},
   "outputs": [],
   "source": [
    "# Loading env variables and settting log level\n",
    "logging.basicConfig(level=logging.INFO, format=\"%(asctime)s - %(levelname)s - %(message)s\")\n",
    "RAW_DATA_PATH = os.getenv(\"RAW_DATA_PATH\", \"../data/raw/aggregated_data.csv\")\n",
    "CLEANED_DATA_PATH = os.getenv(\"CLEANED_DATA_PATH\", \"../data/processed/cleaned_aggregated_data.csv\")\n",
    "numeric_columns = ['male', 'female', 'other', 'total']\n",
    "discrepency_list = ['state_name', 'district_name', 'disability', 'age_group', 'male', 'female', 'other', 'total', 'calculated_total']\n",
    "text_columns_to_standardize = ['state_name', 'district_name', 'disability']"
   ]
  },
  {
   "cell_type": "code",
   "execution_count": 158,
   "id": "d9a6abb5",
   "metadata": {},
   "outputs": [],
   "source": [
    "# Read file function\n",
    "def read_csv_file(file_path):\n",
    "    try:\n",
    "        df = pd.read_csv(file_path)\n",
    "        logging.info(f\"Loaded data from {file_path} with shape {df.shape}\")\n",
    "        return df\n",
    "    except Exception as e:\n",
    "        logging.error(f\"Failed to load raw data: {e}\")\n",
    "        return pd.DataFrame()"
   ]
  },
  {
   "cell_type": "code",
   "execution_count": 161,
   "id": "7e3c31c5",
   "metadata": {},
   "outputs": [
    {
     "name": "stderr",
     "output_type": "stream",
     "text": [
      "2025-06-14 19:00:12,362 - INFO - Loaded data from ../data/raw/aggregated_data.csv with shape (3309, 8)\n"
     ]
    }
   ],
   "source": [
    "# Reading file from raw path\n",
    "df = read_csv_file(RAW_DATA_PATH)\n",
    "if df.empty:\n",
    "    raise SystemExit(\"File not found\")\n"
   ]
  },
  {
   "cell_type": "code",
   "execution_count": 162,
   "id": "132a7a81",
   "metadata": {},
   "outputs": [
    {
     "name": "stderr",
     "output_type": "stream",
     "text": [
      "2025-06-14 19:00:21,993 - INFO - Missing Values in file per header:\n",
      "State Name          0\n",
      "District Name       0\n",
      "Disability          0\n",
      "Age Group           0\n",
      "Male              458\n",
      "Female            748\n",
      "Other            3190\n",
      "Total             296\n",
      "dtype: int64\n"
     ]
    }
   ],
   "source": [
    "# Visualizing the data\n",
    "logging.info(f\"Missing Values in file per header:\\n{df.isnull().sum()}\")"
   ]
  },
  {
   "cell_type": "code",
   "execution_count": 163,
   "id": "9a4e9318",
   "metadata": {},
   "outputs": [],
   "source": [
    "# Standardizing column names: lowercase, replace spaces with underscores, remove special characters\n",
    "def standardize_column_names(df):\n",
    "    lowered_column_names = df.columns.str.lower()\n",
    "    underscored_columns_names = lowered_column_names.str.replace(\" \" , \"_\")\n",
    "    standarized_columns = underscored_columns_names.str.replace('[^a-z0-9_]', '', regex=True)\n",
    "    logging.info(f\"columns after standardization:\\n{standarized_columns}\")\n",
    "    df.columns = standarized_columns\n",
    "    return df"
   ]
  },
  {
   "cell_type": "code",
   "execution_count": 164,
   "id": "0af590c0",
   "metadata": {},
   "outputs": [
    {
     "name": "stderr",
     "output_type": "stream",
     "text": [
      "2025-06-14 19:01:55,096 - INFO - columns after standardization:\n",
      "Index(['state_name', 'district_name', 'disability', 'age_group', 'male',\n",
      "       'female', 'other', 'total'],\n",
      "      dtype='object')\n"
     ]
    }
   ],
   "source": [
    "# calling function to standardize column\n",
    "df = standardize_column_names(df)"
   ]
  },
  {
   "cell_type": "code",
   "execution_count": 165,
   "id": "67fc7a5a",
   "metadata": {},
   "outputs": [],
   "source": [
    "# Cleaning 'age_group' column: remove quotes and standardize format\n",
    "def clean_age_group_column(df):\n",
    "    df['age_group'] = df['age_group'].str.strip(\"'\")\n",
    "    logging.info(f\"clean age-group column:\\n{df['age_group']}\")\n",
    "    return df"
   ]
  },
  {
   "cell_type": "code",
   "execution_count": 166,
   "id": "c3ab5f3a",
   "metadata": {},
   "outputs": [
    {
     "name": "stderr",
     "output_type": "stream",
     "text": [
      "2025-06-14 19:02:21,184 - INFO - clean age-group column:\n",
      "0        6-15\n",
      "1       15-35\n",
      "2       35-60\n",
      "3       60-80\n",
      "4         80+\n",
      "        ...  \n",
      "3304    60-80\n",
      "3305      0-6\n",
      "3306     6-15\n",
      "3307    15-35\n",
      "3308    35-60\n",
      "Name: age_group, Length: 3309, dtype: object\n"
     ]
    }
   ],
   "source": [
    "# Calling function to clean \n",
    "df = clean_age_group_column(df)\n"
   ]
  },
  {
   "cell_type": "code",
   "execution_count": 167,
   "id": "d2b51e3d",
   "metadata": {},
   "outputs": [],
   "source": [
    "# Converting numeric columns to integers, ensuring float to integer conversion and default as 0\n",
    "def standarize_numeric_columns(numeric_columns, df):\n",
    "    for col in numeric_columns:\n",
    "        df[col] = pd.to_numeric(df[col], errors='coerce').fillna(0).astype(int)\n",
    "        logging.info(f\"{col} column standardized\")\n",
    "    return df"
   ]
  },
  {
   "cell_type": "code",
   "execution_count": 168,
   "id": "ab47d694",
   "metadata": {},
   "outputs": [
    {
     "name": "stderr",
     "output_type": "stream",
     "text": [
      "2025-06-14 19:04:42,917 - INFO - male column standardized\n",
      "2025-06-14 19:04:42,919 - INFO - female column standardized\n",
      "2025-06-14 19:04:42,921 - INFO - other column standardized\n",
      "2025-06-14 19:04:42,922 - INFO - total column standardized\n"
     ]
    }
   ],
   "source": [
    "# Calling function to standardize numeric columns\n",
    "df = standarize_numeric_columns(numeric_columns, df)"
   ]
  },
  {
   "cell_type": "code",
   "execution_count": 172,
   "id": "245938f7",
   "metadata": {},
   "outputs": [],
   "source": [
    "# Validating 'total' column: check if total = male + female + other\n",
    "def find_and_fix_discrepencies(total_clm, calculated_total_clm, df, discrepency_list):\n",
    "    discrepancies = df[df[total_clm] != df[calculated_total_clm]]\n",
    "    if not discrepancies.empty:\n",
    "        logging.info(f\"Rows with Total discrepancies:\\n{discrepancies[discrepency_list]}\")\n",
    "        df.loc[df['total'] != df['calculated_total'], 'total'] = df['calculated_total']\n",
    "        df = df.drop(columns=['calculated_total'])\n",
    "    logging.info(\"Fixed discrepencies\")\n",
    "    return df"
   ]
  },
  {
   "cell_type": "code",
   "execution_count": 169,
   "id": "e7edcfac",
   "metadata": {},
   "outputs": [
    {
     "name": "stderr",
     "output_type": "stream",
     "text": [
      "2025-06-14 19:06:52,822 - INFO - Fixed discrepencies\n"
     ]
    }
   ],
   "source": [
    "# Calling function to fix discrepencies\n",
    "df['calculated_total'] = df['male'] + df['female'] + df['other']\n",
    "df = find_and_fix_discrepencies('total', 'calculated_total', df, discrepency_list)\n"
   ]
  },
  {
   "cell_type": "code",
   "execution_count": 173,
   "id": "c44b6916",
   "metadata": {},
   "outputs": [],
   "source": [
    "# Remove duplicates\n",
    "def remove_duplicates(df):\n",
    "    duplicates = df.duplicated().sum()\n",
    "    if duplicates > 0:\n",
    "        logging.info(f\"Found {duplicates} duplicate rows. Removing them.\")\n",
    "        df = df.drop_duplicates()\n",
    "    return df"
   ]
  },
  {
   "cell_type": "code",
   "execution_count": 174,
   "id": "f16095d7",
   "metadata": {},
   "outputs": [],
   "source": [
    "# Calling function to remove duplicates\n",
    "df = remove_duplicates(df)"
   ]
  },
  {
   "cell_type": "code",
   "execution_count": 147,
   "id": "3fd7fb9d",
   "metadata": {},
   "outputs": [],
   "source": [
    "# Fix invalid rows in dataframe\n",
    "def fix_invalid_rows(invalid_rows, df):\n",
    "    if not invalid_rows.empty:\n",
    "        logging.info(\"Rows with negative values: {invalid_rows}\")\n",
    "        df = df[(df['male'] >= 0) & (df['female'] >= 0) & (df['other'] >= 0) & (df['total'] >= 0)]\n",
    "    return df"
   ]
  },
  {
   "cell_type": "code",
   "execution_count": 148,
   "id": "a9355b3e",
   "metadata": {},
   "outputs": [],
   "source": [
    "# Validating for negative or invalid values in numeric columns\n",
    "invalid_rows = df[(df['male'] < 0) | (df['female'] < 0) | (df['other'] < 0) | (df['total'] < 0)]\n",
    "df = fix_invalid_rows(invalid_rows, df)"
   ]
  },
  {
   "cell_type": "code",
   "execution_count": 175,
   "id": "9600d729",
   "metadata": {},
   "outputs": [],
   "source": [
    "# standardize on text columns\n",
    "def standardize_text_columns(text_columns, df):\n",
    "    for col in text_columns:\n",
    "        df[col] = df[col].str.strip().str.title()\n",
    "    return df"
   ]
  },
  {
   "cell_type": "code",
   "execution_count": 176,
   "id": "0cfe205f",
   "metadata": {},
   "outputs": [],
   "source": [
    "# Convert column to categorical variable\n",
    "def convert_to_categorical(column_name, df):\n",
    "    df[column_name] = df[column_name].astype('category')\n",
    "    return df"
   ]
  },
  {
   "cell_type": "code",
   "execution_count": 177,
   "id": "57fd5125",
   "metadata": {},
   "outputs": [
    {
     "name": "stderr",
     "output_type": "stream",
     "text": [
      "2025-06-14 19:14:12,795 - INFO - Data types after cleanup: state_name            object\n",
      "district_name         object\n",
      "disability            object\n",
      "age_group           category\n",
      "male                   int64\n",
      "female                 int64\n",
      "other                  int64\n",
      "total                  int64\n",
      "calculated_total       int64\n",
      "dtype: object\n"
     ]
    }
   ],
   "source": [
    "# Standardizing text columns: trim whitespace , convert to title case for consistency and fixing data types for columns\n",
    "df = standardize_text_columns(text_columns_to_standardize,df)\n",
    "df = convert_to_categorical('age_group', df)\n",
    "logging.info(f\"Data types after cleanup: {df.dtypes}\")\n"
   ]
  },
  {
   "cell_type": "code",
   "execution_count": 178,
   "id": "7a9fcb30",
   "metadata": {},
   "outputs": [
    {
     "name": "stderr",
     "output_type": "stream",
     "text": [
      "2025-06-14 19:14:24,736 - INFO - Missing Values in file per header:\n",
      "state_name          0\n",
      "district_name       0\n",
      "disability          0\n",
      "age_group           0\n",
      "male                0\n",
      "female              0\n",
      "other               0\n",
      "total               0\n",
      "calculated_total    0\n",
      "dtype: int64\n",
      "2025-06-14 19:14:24,749 - INFO - None\n"
     ]
    },
    {
     "name": "stdout",
     "output_type": "stream",
     "text": [
      "<class 'pandas.core.frame.DataFrame'>\n",
      "RangeIndex: 3309 entries, 0 to 3308\n",
      "Data columns (total 9 columns):\n",
      " #   Column            Non-Null Count  Dtype   \n",
      "---  ------            --------------  -----   \n",
      " 0   state_name        3309 non-null   object  \n",
      " 1   district_name     3309 non-null   object  \n",
      " 2   disability        3309 non-null   object  \n",
      " 3   age_group         3309 non-null   category\n",
      " 4   male              3309 non-null   int64   \n",
      " 5   female            3309 non-null   int64   \n",
      " 6   other             3309 non-null   int64   \n",
      " 7   total             3309 non-null   int64   \n",
      " 8   calculated_total  3309 non-null   int64   \n",
      "dtypes: category(1), int64(5), object(3)\n",
      "memory usage: 210.4+ KB\n"
     ]
    }
   ],
   "source": [
    "# Visualizing the data\n",
    "logging.info(f\"Missing Values in file per header:\\n{df.isnull().sum()}\")\n",
    "logging.info(df.info())"
   ]
  },
  {
   "cell_type": "code",
   "execution_count": 179,
   "id": "c01ee217",
   "metadata": {},
   "outputs": [
    {
     "name": "stderr",
     "output_type": "stream",
     "text": [
      "2025-06-14 19:14:27,953 - INFO - dataset saved in path: ../data/processed/cleaned_aggregated_data.csv\n"
     ]
    }
   ],
   "source": [
    "# save dataset\n",
    "df.to_csv(CLEANED_DATA_PATH, index=False)\n",
    "logging.info(f\"dataset saved in path: {CLEANED_DATA_PATH}\")"
   ]
  }
 ],
 "metadata": {
  "kernelspec": {
   "display_name": ".venv",
   "language": "python",
   "name": "python3"
  },
  "language_info": {
   "codemirror_mode": {
    "name": "ipython",
    "version": 3
   },
   "file_extension": ".py",
   "mimetype": "text/x-python",
   "name": "python",
   "nbconvert_exporter": "python",
   "pygments_lexer": "ipython3",
   "version": "3.13.1"
  }
 },
 "nbformat": 4,
 "nbformat_minor": 5
}
