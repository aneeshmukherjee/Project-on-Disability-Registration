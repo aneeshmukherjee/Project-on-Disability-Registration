{
 "cells": [
  {
   "cell_type": "code",
   "execution_count": 2,
   "id": "af1c1545-d19d-4e5a-9b31-44a816a5c8b4",
   "metadata": {},
   "outputs": [],
   "source": [
    "#Importing necessary libraries for data loading and manipulation\n",
    "import pandas as pd\n",
    "import numpy as np\n",
    "import io\n",
    "import re"
   ]
  },
  {
   "cell_type": "code",
   "execution_count": 4,
   "id": "7d427a4a-f1c6-41f6-8499-f9091a01eac3",
   "metadata": {},
   "outputs": [],
   "source": [
    "#Loading data\n",
    "df = pd.read_csv(r\"C:\\Users\\Aneesh\\Downloads\\Pacta Assessment Project\\aggregated data.csv\")"
   ]
  },
  {
   "cell_type": "code",
   "execution_count": 6,
   "id": "406e9311-be5c-4304-a6d6-315b27ee2b91",
   "metadata": {},
   "outputs": [
    {
     "name": "stdout",
     "output_type": "stream",
     "text": [
      "Initial Data Info:\n",
      "<class 'pandas.core.frame.DataFrame'>\n",
      "RangeIndex: 3309 entries, 0 to 3308\n",
      "Data columns (total 8 columns):\n",
      " #   Column         Non-Null Count  Dtype  \n",
      "---  ------         --------------  -----  \n",
      " 0   State Name     3309 non-null   object \n",
      " 1   District Name  3309 non-null   object \n",
      " 2   Disability     3309 non-null   object \n",
      " 3   Age Group      3309 non-null   object \n",
      " 4   Male           2851 non-null   float64\n",
      " 5   Female         2561 non-null   float64\n",
      " 6   Other          119 non-null    float64\n",
      " 7   Total          3013 non-null   float64\n",
      "dtypes: float64(4), object(4)\n",
      "memory usage: 206.9+ KB\n",
      "None\n",
      "\n",
      "Missing Values:\n",
      "State Name          0\n",
      "District Name       0\n",
      "Disability          0\n",
      "Age Group           0\n",
      "Male              458\n",
      "Female            748\n",
      "Other            3190\n",
      "Total             296\n",
      "dtype: int64\n"
     ]
    }
   ],
   "source": [
    "#Inspecting the data\n",
    "print(\"Initial Data Info:\")\n",
    "print(df.info())\n",
    "print(\"\\nMissing Values:\")\n",
    "print(df.isnull().sum())"
   ]
  },
  {
   "cell_type": "code",
   "execution_count": 8,
   "id": "8e0f02e2-4ca1-4f1e-b4b7-7ed269fe54f0",
   "metadata": {},
   "outputs": [],
   "source": [
    "# Standardizing column names: lowercase, replace spaces with underscores, remove special characters\n",
    "df.columns = df.columns.str.lower().str.replace(' ', '_').str.replace('[^a-z0-9_]', '', regex=True)"
   ]
  },
  {
   "cell_type": "code",
   "execution_count": 10,
   "id": "c821b8ea-c6f1-4b7a-828d-e6b1114e5c1e",
   "metadata": {},
   "outputs": [],
   "source": [
    "# Cleaning 'age_group' column: remove quotes and standardize format\n",
    "df['age_group'] = df['age_group'].str.strip(\"'\")"
   ]
  },
  {
   "cell_type": "code",
   "execution_count": 12,
   "id": "b5c5e777-ffec-4286-bd4f-0d10ff2aae2c",
   "metadata": {},
   "outputs": [],
   "source": [
    "# Handling missing values in numeric columns: replace empty strings with 0\n",
    "numeric_columns = ['male', 'female', 'other', 'total']\n",
    "for col in numeric_columns:\n",
    "    df[col] = df[col].fillna(0)  # Fill empty cells with 0"
   ]
  },
  {
   "cell_type": "code",
   "execution_count": 14,
   "id": "ce33dccf-9c8b-4b43-a007-a8db81401105",
   "metadata": {},
   "outputs": [],
   "source": [
    "# Converting numeric columns to integers, ensuring float to integer conversion\n",
    "for col in numeric_columns:\n",
    "    df[col] = pd.to_numeric(df[col], errors='coerce').fillna(0).astype(int)"
   ]
  },
  {
   "cell_type": "code",
   "execution_count": 16,
   "id": "b58b897f-a930-4acb-868d-3f328f531e71",
   "metadata": {},
   "outputs": [],
   "source": [
    "# Validating 'total' column: check if total = male + female + other\n",
    "df['calculated_total'] = df['male'] + df['female'] + df['other']\n",
    "discrepancies = df[df['total'] != df['calculated_total']]\n",
    "if not discrepancies.empty:\n",
    "    print(\"\\nRows with Total discrepancies:\")\n",
    "    print(discrepancies[['state_name', 'district_name', 'disability', 'age_group', 'male', 'female', 'other', 'total', 'calculated_total']])\n",
    "    # Fix discrepancies by setting total to calculated_total\n",
    "    df.loc[df['total'] != df['calculated_total'], 'total'] = df['calculated_total']"
   ]
  },
  {
   "cell_type": "code",
   "execution_count": 18,
   "id": "c4a80120-5696-4d67-a8a3-17d4e153c2ab",
   "metadata": {},
   "outputs": [],
   "source": [
    "# Dropping the temporary 'calculated_total' column\n",
    "df = df.drop(columns=['calculated_total'])"
   ]
  },
  {
   "cell_type": "code",
   "execution_count": 20,
   "id": "80d40842-89ac-4203-b104-7a88b87adfe9",
   "metadata": {},
   "outputs": [],
   "source": [
    "# Checking for duplicates and remove if any\n",
    "duplicates = df.duplicated().sum()\n",
    "if duplicates > 0:\n",
    "    print(f\"\\nFound {duplicates} duplicate rows. Removing them.\")\n",
    "    df = df.drop_duplicates()"
   ]
  },
  {
   "cell_type": "code",
   "execution_count": 22,
   "id": "ac764e7d-9efb-437a-b274-2e64f5dfcf77",
   "metadata": {},
   "outputs": [],
   "source": [
    "# Validating for negative or invalid values in numeric columns\n",
    "invalid_rows = df[(df['male'] < 0) | (df['female'] < 0) | (df['other'] < 0) | (df['total'] < 0)]\n",
    "if not invalid_rows.empty:\n",
    "    print(\"\\nRows with negative values:\")\n",
    "    print(invalid_rows)\n",
    "    # Remove rows with negative values (if any)\n",
    "    df = df[(df['male'] >= 0) & (df['female'] >= 0) & (df['other'] >= 0) & (df['total'] >= 0)]"
   ]
  },
  {
   "cell_type": "code",
   "execution_count": 24,
   "id": "6da13124-79a3-4cbb-8b18-c6e0f458fdd4",
   "metadata": {},
   "outputs": [],
   "source": [
    "# Standardizing text columns: trim whitespace and convert to title case for consistency\n",
    "text_columns = ['state_name', 'district_name', 'disability']\n",
    "for col in text_columns:\n",
    "    df[col] = df[col].str.strip().str.title()"
   ]
  },
  {
   "cell_type": "code",
   "execution_count": 26,
   "id": "5f226bf2-a81b-44a9-b634-3e0be0407ff6",
   "metadata": {},
   "outputs": [],
   "source": [
    "# Ensuring 'age_group' is treated as a categorical variable\n",
    "df['age_group'] = df['age_group'].astype('category')"
   ]
  },
  {
   "cell_type": "code",
   "execution_count": 28,
   "id": "c65c1097-1fde-4b4c-8cdd-83c723a40ba8",
   "metadata": {},
   "outputs": [
    {
     "name": "stdout",
     "output_type": "stream",
     "text": [
      "\n",
      "Data Types After Cleaning:\n",
      "state_name         object\n",
      "district_name      object\n",
      "disability         object\n",
      "age_group        category\n",
      "male                int32\n",
      "female              int32\n",
      "other               int32\n",
      "total               int32\n",
      "dtype: object\n"
     ]
    }
   ],
   "source": [
    "# Verifying data types after cleaning\n",
    "print(\"\\nData Types After Cleaning:\")\n",
    "print(df.dtypes)"
   ]
  },
  {
   "cell_type": "code",
   "execution_count": 30,
   "id": "4883e72d-261e-4d7d-82ee-54202f2259e1",
   "metadata": {},
   "outputs": [
    {
     "name": "stdout",
     "output_type": "stream",
     "text": [
      "\n",
      "Cleaned Data Info:\n",
      "<class 'pandas.core.frame.DataFrame'>\n",
      "RangeIndex: 3309 entries, 0 to 3308\n",
      "Data columns (total 8 columns):\n",
      " #   Column         Non-Null Count  Dtype   \n",
      "---  ------         --------------  -----   \n",
      " 0   state_name     3309 non-null   object  \n",
      " 1   district_name  3309 non-null   object  \n",
      " 2   disability     3309 non-null   object  \n",
      " 3   age_group      3309 non-null   category\n",
      " 4   male           3309 non-null   int32   \n",
      " 5   female         3309 non-null   int32   \n",
      " 6   other          3309 non-null   int32   \n",
      " 7   total          3309 non-null   int32   \n",
      "dtypes: category(1), int32(4), object(3)\n",
      "memory usage: 132.8+ KB\n",
      "None\n",
      "\n",
      "Missing Values After Cleaning:\n",
      "state_name       0\n",
      "district_name    0\n",
      "disability       0\n",
      "age_group        0\n",
      "male             0\n",
      "female           0\n",
      "other            0\n",
      "total            0\n",
      "dtype: int64\n"
     ]
    }
   ],
   "source": [
    "# Inspecting the cleaned data\n",
    "print(\"\\nCleaned Data Info:\")\n",
    "print(df.info())\n",
    "print(\"\\nMissing Values After Cleaning:\")\n",
    "print(df.isnull().sum())"
   ]
  },
  {
   "cell_type": "code",
   "execution_count": null,
   "id": "3251862c-a045-49a4-bd4b-decd83ec2dba",
   "metadata": {},
   "outputs": [
    {
     "name": "stdout",
     "output_type": "stream",
     "text": [
      "\n",
      "Cleaned dataset saved as 'cleaned_aggregated_data.csv'\n"
     ]
    }
   ],
   "source": [
    "# Saving the cleaned dataset\n",
    "df.to_csv('cleaned_aggregated_data.csv', index=False)\n"
   ]
  },
  {
   "cell_type": "code",
   "execution_count": null,
   "id": "937efdfd-05c3-4e38-bc29-ba581dc9c96e",
   "metadata": {},
   "outputs": [],
   "source": []
  }
 ],
 "metadata": {
  "kernelspec": {
   "display_name": "Python 3 (ipykernel)",
   "language": "python",
   "name": "python3"
  },
  "language_info": {
   "codemirror_mode": {
    "name": "ipython",
    "version": 3
   },
   "file_extension": ".py",
   "mimetype": "text/x-python",
   "name": "python",
   "nbconvert_exporter": "python",
   "pygments_lexer": "ipython3",
   "version": "3.12.7"
  }
 },
 "nbformat": 4,
 "nbformat_minor": 5
}
